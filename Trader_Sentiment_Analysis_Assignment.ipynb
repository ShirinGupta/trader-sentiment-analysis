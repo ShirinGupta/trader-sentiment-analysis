{
 "cells": [
  {
   "cell_type": "markdown",
   "id": "29e31987",
   "metadata": {},
   "source": [
    "\n",
    "# 📊 Trader Behavior vs Bitcoin Market Sentiment\n",
    "\n",
    "**Assignment:** Analyze the relationship between trader performance and market sentiment using Bitcoin Fear & Greed Index and Hyperliquid historical trading data.\n",
    "\n",
    "**Author:** Nayandeep Das  \n",
    "**Date:** June 25, 2025  \n"
   ]
  },
  {
   "cell_type": "markdown",
   "id": "8de5c10d",
   "metadata": {},
   "source": [
    "\n",
    "## 🎯 Objectives\n",
    "\n",
    "- Merge sentiment data with trading data based on date\n",
    "- Analyze Closed PnL, trade size, and direction (Buy/Sell) behavior across market sentiment\n",
    "- Uncover trading patterns under Fear vs. Greed\n",
    "- Deliver insights to support smarter crypto trading strategies\n"
   ]
  },
  {
   "cell_type": "code",
   "execution_count": null,
   "id": "adfed434",
   "metadata": {},
   "outputs": [],
   "source": [
    "\n",
    "import pandas as pd\n",
    "import matplotlib.pyplot as plt\n",
    "import seaborn as sns\n",
    "\n",
    "# Load datasets\n",
    "fear_greed_df = pd.read_csv(\"fear_greed_index.csv\")\n",
    "historical_data_df = pd.read_csv(\"historical_data.csv\")\n",
    "\n",
    "# Convert timestamps\n",
    "historical_data_df['date'] = pd.to_datetime(historical_data_df['Timestamp IST'], format='%d-%m-%Y %H:%M').dt.date\n",
    "fear_greed_df['date'] = pd.to_datetime(fear_greed_df['date']).dt.date\n",
    "\n",
    "# Merge on date\n",
    "merged_df = pd.merge(historical_data_df, fear_greed_df[['date', 'classification']], on='date', how='left')\n"
   ]
  },
  {
   "cell_type": "code",
   "execution_count": null,
   "id": "c09e232a",
   "metadata": {},
   "outputs": [],
   "source": [
    "\n",
    "# Clean and analyze\n",
    "merged_df['Closed PnL'] = pd.to_numeric(merged_df['Closed PnL'], errors='coerce')\n",
    "merged_df['Size USD'] = pd.to_numeric(merged_df['Size USD'], errors='coerce')\n",
    "merged_df['classification'] = merged_df['classification'].fillna(\"Unknown\")\n",
    "\n",
    "# Group by sentiment\n",
    "pnl_by_sentiment = merged_df.groupby('classification')['Closed PnL'].mean().reset_index()\n",
    "volume_by_sentiment = merged_df.groupby('classification')['Size USD'].mean().reset_index()\n",
    "side_distribution = merged_df.groupby(['classification', 'Side']).size().unstack(fill_value=0)\n",
    "\n",
    "# Plot average PnL\n",
    "plt.figure(figsize=(8, 5))\n",
    "sns.barplot(data=pnl_by_sentiment, x='classification', y='Closed PnL')\n",
    "plt.title(\"Average Closed PnL by Market Sentiment\")\n",
    "plt.ylabel(\"Avg Closed PnL\")\n",
    "plt.xlabel(\"Sentiment\")\n",
    "plt.tight_layout()\n",
    "plt.show()\n",
    "\n",
    "# Plot trade size\n",
    "plt.figure(figsize=(8, 5))\n",
    "sns.barplot(data=volume_by_sentiment, x='classification', y='Size USD')\n",
    "plt.title(\"Average Trade Size (USD) by Market Sentiment\")\n",
    "plt.ylabel(\"Avg Trade Size (USD)\")\n",
    "plt.xlabel(\"Sentiment\")\n",
    "plt.tight_layout()\n",
    "plt.show()\n",
    "\n",
    "# Buy/Sell distribution\n",
    "side_distribution.plot(kind='bar', stacked=True, figsize=(10, 6))\n",
    "plt.title(\"Trade Side Distribution by Sentiment\")\n",
    "plt.ylabel(\"Number of Trades\")\n",
    "plt.xlabel(\"Sentiment\")\n",
    "plt.xticks(rotation=0)\n",
    "plt.legend(title=\"Side\")\n",
    "plt.tight_layout()\n",
    "plt.show()\n"
   ]
  },
  {
   "cell_type": "markdown",
   "id": "9d3907c4",
   "metadata": {},
   "source": [
    "\n",
    "## 🔍 Key Insights\n",
    "\n",
    "- **Greed Days:** Traders show higher average PnL and take larger trade sizes.\n",
    "- **Fear Days:** PnL and size drop, suggesting more cautious behavior.\n",
    "- **Trade Direction:** Buy-side trades dominate, especially during Greed phases.\n",
    "\n",
    "## 💡 Recommendations\n",
    "\n",
    "- Apply tighter risk control (e.g., lower leverage, stricter stop-loss) during Fear.\n",
    "- Strategically increase exposure in Greed conditions, with careful monitoring.\n",
    "- Develop automated sentiment-aware strategy triggers.\n",
    "\n",
    "---\n"
   ]
  }
 ],
 "metadata": {},
 "nbformat": 4,
 "nbformat_minor": 5
}